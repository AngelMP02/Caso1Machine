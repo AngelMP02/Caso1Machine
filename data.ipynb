{
 "cells": [
  {
   "cell_type": "code",
   "execution_count": 4,
   "metadata": {},
   "outputs": [],
   "source": [
    "import pandas as pd\n",
    "from sklearn.preprocessing import LabelEncoder, StandardScaler\n",
    "import numpy as np\n",
    "\n",
    "# Cargar los datos\n",
    "data = pd.read_csv('cars.csv', sep=';')\n",
    "\n"
   ]
  },
  {
   "cell_type": "code",
   "execution_count": 5,
   "metadata": {},
   "outputs": [
    {
     "name": "stdout",
     "output_type": "stream",
     "text": [
      "Archivo limpio guardado como 'ruta_a_tu_archivo_limpio.csv'\n"
     ]
    }
   ],
   "source": [
    "# 1. LIMPIEZA DE DATOS\n",
    "\n",
    "# Reemplazar valores \"NO DATA\" o similares con NaN\n",
    "data.replace([\"NO DATA\", \"N/A\", \"n/a\", \"?\", \"\", \" \"], np.nan, inplace=True)\n",
    "\n",
    "# Rellenar valores faltantes (media para numéricos, moda para categóricos)\n",
    "for column in data.columns:\n",
    "    if data[column].dtype == 'object':  # variables categóricas\n",
    "        data[column].fillna(data[column].mode()[0], inplace=True)\n",
    "    else:  # variables numéricas\n",
    "        data[column].fillna(data[column].mean(), inplace=True)\n",
    "\n",
    "# 1.2 Eliminación de outliers usando el rango intercuartil (IQR)\n",
    "def remove_outliers(df, column):\n",
    "    Q1 = df[column].quantile(0.25)\n",
    "    Q3 = df[column].quantile(0.75)\n",
    "    IQR = Q3 - Q1\n",
    "    lower_bound = Q1 - 1.5 * IQR\n",
    "    upper_bound = Q3 + 1.5 * IQR\n",
    "    return df[(df[column] >= lower_bound) & (df[column] <= upper_bound)]\n",
    "\n",
    "# Aplicamos el tratamiento de outliers solo a las columnas numéricas relevantes\n",
    "numeric_cols = ['EDAD_COCHE', 'COSTE_VENTA', 'km_anno', 'Edad Cliente', 'Tiempo']\n",
    "for col in numeric_cols:\n",
    "    data = remove_outliers(data, col)\n",
    "\n",
    "# 2. CODIFICACIÓN DE VARIABLES CATEGÓRICAS\n",
    "# Usamos LabelEncoder para convertir variables categóricas en formato numérico\n",
    "categorical_cols = data.select_dtypes(include=['object']).columns\n",
    "label_encoders = {}\n",
    "for col in categorical_cols:\n",
    "    le = LabelEncoder()\n",
    "    data[col] = le.fit_transform(data[col])\n",
    "    label_encoders[col] = le  # Guardar el codificador para su uso futuro\n",
    "\n",
    "# 3. NORMALIZACIÓN Y ESCALADO\n",
    "# Escalado de las variables numéricas\n",
    "scaler = StandardScaler()\n",
    "data[numeric_cols] = scaler.fit_transform(data[numeric_cols])\n",
    "\n",
    "# Guardar el archivo ya procesado en un nuevo archivo CSV limpio\n",
    "data.to_csv('cars_limpio.csv', index=False)\n",
    "\n",
    "print(\"Archivo limpio guardado como 'ruta_a_tu_archivo_limpio.csv'\")\n",
    "\n"
   ]
  },
  {
   "cell_type": "code",
   "execution_count": null,
   "metadata": {},
   "outputs": [],
   "source": []
  }
 ],
 "metadata": {
  "kernelspec": {
   "display_name": "Python 3",
   "language": "python",
   "name": "python3"
  },
  "language_info": {
   "codemirror_mode": {
    "name": "ipython",
    "version": 3
   },
   "file_extension": ".py",
   "mimetype": "text/x-python",
   "name": "python",
   "nbconvert_exporter": "python",
   "pygments_lexer": "ipython3",
   "version": "3.10.9"
  }
 },
 "nbformat": 4,
 "nbformat_minor": 2
}
