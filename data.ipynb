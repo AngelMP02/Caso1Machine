{
 "cells": [
  {
   "cell_type": "code",
   "execution_count": 13,
   "metadata": {},
   "outputs": [],
   "source": [
    "import pandas as pd\n",
    "from sklearn.preprocessing import LabelEncoder, StandardScaler\n",
    "import numpy as np\n",
    "\n",
    "# Cargar los datos\n",
    "data = pd.read_csv('cars.csv', sep=';')\n",
    "\n"
   ]
  },
  {
   "cell_type": "code",
   "execution_count": 14,
   "metadata": {},
   "outputs": [
    {
     "name": "stdout",
     "output_type": "stream",
     "text": [
      "Archivo limpio guardado como 'ruta_a_tu_archivo_limpio.csv'\n"
     ]
    }
   ],
   "source": [
    "# 1. LIMPIEZA DE DATOS\n",
    "\n",
    "# Reemplazar valores \"NO DATA\" o similares con NaN\n",
    "data.replace([\"NO DATA\", \"N/A\", \"n/a\", \"?\", \"\", \" \"], np.nan, inplace=True)\n",
    "\n",
    "# Rellenar valores faltantes (media para numéricos, moda para categóricos)\n",
    "for column in data.columns:\n",
    "    if data[column].dtype == 'object':  # variables categóricas\n",
    "        data[column].fillna(data[column].mode()[0], inplace=True)\n",
    "    else:  # variables numéricas\n",
    "        data[column].fillna(data[column].mean(), inplace=True)\n",
    "\n",
    "# 1.2 Eliminación de outliers usando el rango intercuartil (IQR)\n",
    "def remove_outliers(df, column):\n",
    "    Q1 = df[column].quantile(0.25)\n",
    "    Q3 = df[column].quantile(0.75)\n",
    "    IQR = Q3 - Q1\n",
    "    lower_bound = Q1 - 1.5 * IQR\n",
    "    upper_bound = Q3 + 1.5 * IQR\n",
    "    return df[(df[column] >= lower_bound) & (df[column] <= upper_bound)]\n",
    "\n",
    "# Aplicamos el tratamiento de outliers solo a las columnas numéricas relevantes\n",
    "numeric_cols = ['EDAD_COCHE', 'COSTE_VENTA', 'km_anno', 'Edad Cliente', 'Tiempo']\n",
    "for col in numeric_cols:\n",
    "    data = remove_outliers(data, col)\n",
    "\n",
    "# 2. CODIFICACIÓN DE VARIABLES CATEGÓRICAS\n",
    "# Usamos LabelEncoder para convertir variables categóricas en formato numérico\n",
    "categorical_cols = data.select_dtypes(include=['object']).columns\n",
    "label_encoders = {}\n",
    "for col in categorical_cols:\n",
    "    le = LabelEncoder()\n",
    "    data[col] = le.fit_transform(data[col])\n",
    "    label_encoders[col] = le  # Guardar el codificador para su uso futuro\n",
    "\n",
    "# 3. NORMALIZACIÓN Y ESCALADO\n",
    "# Escalado de las variables numéricas\n",
    "scaler = StandardScaler()\n",
    "data[numeric_cols] = scaler.fit_transform(data[numeric_cols])\n",
    "\n",
    "# Guardar el archivo ya procesado en un nuevo archivo CSV limpio\n",
    "data.to_csv('cars_limpio.csv', index=False)\n",
    "\n",
    "print(\"Archivo limpio guardado como 'ruta_a_tu_archivo_limpio.csv'\")\n",
    "\n"
   ]
  },
  {
   "cell_type": "code",
   "execution_count": 15,
   "metadata": {},
   "outputs": [],
   "source": [
    "#3. Desarrollo del Modelo de Propensión:\n",
    "from sklearn.model_selection import train_test_split\n",
    "data=pd.read_csv('cars_limpio.csv')\n",
    "X = data.drop('Mas_1_coche', axis=1)  # Todas las variables menos el objetivo\n",
    "y = data['Mas_1_coche']               # Variable objetivo\n",
    "\n",
    "# Dividir en conjunto de entrenamiento y prueba\n",
    "X_train, X_test, y_train, y_test = train_test_split(X, y, test_size=0.3, random_state=42)"
   ]
  },
  {
   "cell_type": "code",
   "execution_count": 16,
   "metadata": {},
   "outputs": [
    {
     "name": "stdout",
     "output_type": "stream",
     "text": [
      "Accuracy (Regresión Logística): 0.9999400587424324\n",
      "AUC-ROC: 1.0\n",
      "              precision    recall  f1-score   support\n",
      "\n",
      "           0       1.00      1.00      1.00     12125\n",
      "           1       1.00      1.00      1.00      4558\n",
      "\n",
      "    accuracy                           1.00     16683\n",
      "   macro avg       1.00      1.00      1.00     16683\n",
      "weighted avg       1.00      1.00      1.00     16683\n",
      "\n"
     ]
    }
   ],
   "source": [
    "# Modelo de regresión logística\n",
    "from sklearn.linear_model import LogisticRegression\n",
    "from sklearn.metrics import classification_report, roc_auc_score, accuracy_score\n",
    "\n",
    "\n",
    "logistic_model = LogisticRegression(max_iter=1000)\n",
    "logistic_model.fit(X_train, y_train)\n",
    "\n",
    "# Predicciones y evaluación\n",
    "y_pred_log = logistic_model.predict(X_test)\n",
    "print(f\"Accuracy (Regresión Logística): {accuracy_score(y_test, y_pred_log)}\")\n",
    "print(f\"AUC-ROC: {roc_auc_score(y_test, logistic_model.predict_proba(X_test)[:, 1])}\")\n",
    "print(classification_report(y_test, y_pred_log))\n"
   ]
  },
  {
   "cell_type": "code",
   "execution_count": 19,
   "metadata": {},
   "outputs": [
    {
     "name": "stdout",
     "output_type": "stream",
     "text": [
      "Accuracy (Árbol de Decisión): 1.0\n",
      "AUC-ROC: 1.0\n",
      "              precision    recall  f1-score   support\n",
      "\n",
      "           0       1.00      1.00      1.00     12125\n",
      "           1       1.00      1.00      1.00      4558\n",
      "\n",
      "    accuracy                           1.00     16683\n",
      "   macro avg       1.00      1.00      1.00     16683\n",
      "weighted avg       1.00      1.00      1.00     16683\n",
      "\n"
     ]
    }
   ],
   "source": [
    "# Modelo de Árbol de Decisión\n",
    "from sklearn.tree import DecisionTreeClassifier\n",
    "\n",
    "\n",
    "tree_model = DecisionTreeClassifier(random_state=42)\n",
    "tree_model.fit(X_train, y_train)\n",
    "\n",
    "# Predicciones y evaluación\n",
    "y_pred_tree = tree_model.predict(X_test)\n",
    "print(f\"Accuracy (Árbol de Decisión): {accuracy_score(y_test, y_pred_tree)}\")\n",
    "print(f\"AUC-ROC: {roc_auc_score(y_test, tree_model.predict_proba(X_test)[:, 1])}\")\n",
    "print(classification_report(y_test, y_pred_tree))\n"
   ]
  },
  {
   "cell_type": "code",
   "execution_count": 20,
   "metadata": {},
   "outputs": [
    {
     "name": "stdout",
     "output_type": "stream",
     "text": [
      "CODE              -0.001280\n",
      "PRODUCTO          -0.022678\n",
      "TIPO_CARROCERIA   -0.032507\n",
      "COMBUSTIBLE       -0.030213\n",
      "Potencia_         -0.018317\n",
      "TRANS             -0.001697\n",
      "FORMA_PAGO        -0.007551\n",
      "ESTADO_CIVIL      -0.029561\n",
      "GENERO             0.014677\n",
      "OcupaciOn          0.002798\n",
      "PROVINCIA         -0.003128\n",
      "Campanna1          0.114416\n",
      "Campanna2          0.005062\n",
      "Campanna3         -0.021214\n",
      "Zona _Renta       -0.270953\n",
      "REV_Garantia            NaN\n",
      "Averia_grave      -0.017584\n",
      "QUEJA_CAC         -0.036158\n",
      "EDAD_COCHE         0.020459\n",
      "COSTE_VENTA        0.179426\n",
      "km_anno            0.134452\n",
      "Revisiones         0.014963\n",
      "Edad Cliente       0.014821\n",
      "Tiempo             0.937908\n",
      "dtype: float64\n"
     ]
    }
   ],
   "source": [
    "correlations = X.corrwith(y)\n",
    "print(correlations)\n",
    "#Aqui vemos que tiempo tiene una correlacion extremadamente alta (0,9379) por lo q podria ser una fuga de informacion"
   ]
  },
  {
   "cell_type": "code",
   "execution_count": 21,
   "metadata": {},
   "outputs": [
    {
     "name": "stdout",
     "output_type": "stream",
     "text": [
      "Accuracy (Regresión Logística): 0.7415932386261463\n",
      "AUC-ROC: 0.7348230142538553\n",
      "              precision    recall  f1-score   support\n",
      "\n",
      "           0       0.76      0.95      0.84     12125\n",
      "           1       0.58      0.19      0.29      4558\n",
      "\n",
      "    accuracy                           0.74     16683\n",
      "   macro avg       0.67      0.57      0.57     16683\n",
      "weighted avg       0.71      0.74      0.69     16683\n",
      "\n"
     ]
    }
   ],
   "source": [
    "# Eliminar la columna 'Tiempo' debido a la alta correlación\n",
    "X = X.drop('Tiempo', axis=1)\n",
    "\n",
    "# Volver a dividir los datos\n",
    "X_train, X_test, y_train, y_test = train_test_split(X, y, test_size=0.3, random_state=42)\n",
    "\n",
    "# Reentrenar el modelo (por ejemplo, regresión logística)\n",
    "logistic_model = LogisticRegression(max_iter=1000)\n",
    "logistic_model.fit(X_train, y_train)\n",
    "\n",
    "# Evaluar el modelo\n",
    "y_pred_log = logistic_model.predict(X_test)\n",
    "print(f\"Accuracy (Regresión Logística): {accuracy_score(y_test, y_pred_log)}\")\n",
    "print(f\"AUC-ROC: {roc_auc_score(y_test, logistic_model.predict_proba(X_test)[:, 1])}\")\n",
    "print(classification_report(y_test, y_pred_log))\n"
   ]
  },
  {
   "cell_type": "code",
   "execution_count": 23,
   "metadata": {},
   "outputs": [
    {
     "name": "stdout",
     "output_type": "stream",
     "text": [
      "Accuracy (Random Forest): 0.835820895522388\n",
      "AUC-ROC: 0.9077960490900784\n",
      "              precision    recall  f1-score   support\n",
      "\n",
      "           0       0.86      0.92      0.89     12125\n",
      "           1       0.75      0.60      0.67      4558\n",
      "\n",
      "    accuracy                           0.84     16683\n",
      "   macro avg       0.80      0.76      0.78     16683\n",
      "weighted avg       0.83      0.84      0.83     16683\n",
      "\n"
     ]
    }
   ],
   "source": [
    "# Modelo de Random Forest\n",
    "from sklearn.ensemble import RandomForestClassifier\n",
    "\n",
    "\n",
    "rf_model = RandomForestClassifier(random_state=42, n_estimators=100)\n",
    "rf_model.fit(X_train, y_train)\n",
    "\n",
    "# Predicciones y evaluación\n",
    "y_pred_rf = rf_model.predict(X_test)\n",
    "print(f\"Accuracy (Random Forest): {accuracy_score(y_test, y_pred_rf)}\")\n",
    "print(f\"AUC-ROC: {roc_auc_score(y_test, rf_model.predict_proba(X_test)[:, 1])}\")\n",
    "print(classification_report(y_test, y_pred_rf))\n"
   ]
  },
  {
   "cell_type": "code",
   "execution_count": 24,
   "metadata": {},
   "outputs": [
    {
     "name": "stdout",
     "output_type": "stream",
     "text": [
      "Accuracy (Gradient Boosting): 0.8249115866450878\n",
      "AUC-ROC: 0.8928214581363683\n",
      "              precision    recall  f1-score   support\n",
      "\n",
      "           0       0.84      0.94      0.89     12125\n",
      "           1       0.76      0.53      0.62      4558\n",
      "\n",
      "    accuracy                           0.82     16683\n",
      "   macro avg       0.80      0.73      0.75     16683\n",
      "weighted avg       0.82      0.82      0.81     16683\n",
      "\n"
     ]
    }
   ],
   "source": [
    "# Modelo de Gradient Boosting\n",
    "from sklearn.ensemble import GradientBoostingClassifier\n",
    "\n",
    "\n",
    "gb_model = GradientBoostingClassifier(random_state=42)\n",
    "gb_model.fit(X_train, y_train)\n",
    "\n",
    "# Predicciones y evaluación\n",
    "y_pred_gb = gb_model.predict(X_test)\n",
    "print(f\"Accuracy (Gradient Boosting): {accuracy_score(y_test, y_pred_gb)}\")\n",
    "print(f\"AUC-ROC: {roc_auc_score(y_test, gb_model.predict_proba(X_test)[:, 1])}\")\n",
    "print(classification_report(y_test, y_pred_gb))\n"
   ]
  },
  {
   "cell_type": "code",
   "execution_count": 27,
   "metadata": {},
   "outputs": [
    {
     "name": "stdout",
     "output_type": "stream",
     "text": [
      "Mejores hiperparámetros: {'learning_rate': 0.1, 'max_depth': 5, 'min_samples_split': 10, 'n_estimators': 200, 'subsample': 0.8}\n"
     ]
    }
   ],
   "source": [
    "#Vamos con los hiperparametros\n",
    "from sklearn.ensemble import GradientBoostingClassifier\n",
    "from sklearn.model_selection import GridSearchCV\n",
    "\n",
    "param_grid = {\n",
    "    'n_estimators': [100, 200],        \n",
    "    'learning_rate': [0.1, 0.05],      \n",
    "    'max_depth': [3, 5],               \n",
    "    'min_samples_split': [5, 10],      \n",
    "    'subsample': [0.8, 1.0]           \n",
    "}\n",
    "# Crear el modelo base de Gradient Boosting\n",
    "gb_model = GradientBoostingClassifier(random_state=42)\n",
    "\n",
    "# Configurar GridSearchCV\n",
    "grid_search_gb = GridSearchCV(estimator=gb_model, param_grid=param_grid, cv=5, scoring='accuracy', n_jobs=-1)\n",
    "\n",
    "# Entrenar el modelo y buscar los mejores hiperparámetros\n",
    "grid_search_gb.fit(X_train, y_train)\n",
    "\n",
    "# Imprimir los mejores hiperparámetros encontrados\n",
    "print(f\"Mejores hiperparámetros: {grid_search_gb.best_params_}\")\n"
   ]
  },
  {
   "cell_type": "code",
   "execution_count": 29,
   "metadata": {},
   "outputs": [
    {
     "name": "stdout",
     "output_type": "stream",
     "text": [
      "Accuracy (Gradient Boosting): 0.8509860336869868\n",
      "AUC-ROC: 0.9219496614087385\n",
      "              precision    recall  f1-score   support\n",
      "\n",
      "           0       0.87      0.93      0.90     12125\n",
      "           1       0.77      0.65      0.70      4558\n",
      "\n",
      "    accuracy                           0.85     16683\n",
      "   macro avg       0.82      0.79      0.80     16683\n",
      "weighted avg       0.85      0.85      0.85     16683\n",
      "\n"
     ]
    }
   ],
   "source": [
    "from sklearn.metrics import accuracy_score, roc_auc_score, classification_report\n",
    "\n",
    "# Entrenar el modelo con los mejores hiperparámetros\n",
    "best_gb_model = GradientBoostingClassifier(\n",
    "    learning_rate=0.1, \n",
    "    max_depth=5, \n",
    "    min_samples_split=10, \n",
    "    n_estimators=200, \n",
    "    subsample=0.8, \n",
    "    random_state=42\n",
    ")\n",
    "\n",
    "# Entrenar el modelo en el conjunto de entrenamiento\n",
    "best_gb_model.fit(X_train, y_train)\n",
    "\n",
    "# Hacer predicciones en el conjunto de prueba\n",
    "y_pred_gb = best_gb_model.predict(X_test)\n",
    "\n",
    "# Evaluar el modelo\n",
    "print(f\"Accuracy (Gradient Boosting): {accuracy_score(y_test, y_pred_gb)}\")\n",
    "print(f\"AUC-ROC: {roc_auc_score(y_test, best_gb_model.predict_proba(X_test)[:, 1])}\")\n",
    "print(classification_report(y_test, y_pred_gb))\n"
   ]
  },
  {
   "cell_type": "markdown",
   "metadata": {},
   "source": [
    "AQUI SE VE CLARAMENTE COMO MEJORA LA ACCURACY Y LA AUC-ROC"
   ]
  },
  {
   "cell_type": "code",
   "execution_count": 31,
   "metadata": {},
   "outputs": [
    {
     "name": "stdout",
     "output_type": "stream",
     "text": [
      "Exactitud en cada pliegue: [0.83958387 0.84290302 0.84649968 0.84906872 0.8569043 ]\n",
      "Exactitud media: 0.8469919182050486\n",
      "Desviación estándar: 0.005906083116010357\n"
     ]
    }
   ],
   "source": [
    "# Realizar la validación cruzada con 5 pliegues\n",
    "from sklearn.model_selection import cross_val_score\n",
    "\n",
    "\n",
    "cv_scores = cross_val_score(best_gb_model, X_train, y_train, cv=5, scoring='accuracy', n_jobs=-1)\n",
    "\n",
    "# Mostrar los resultados de cada pliegue\n",
    "print(f\"Exactitud en cada pliegue: {cv_scores}\")\n",
    "\n",
    "# Promedio y desviación estándar de la validación cruzada\n",
    "print(f\"Exactitud media: {cv_scores.mean()}\")\n",
    "print(f\"Desviación estándar: {cv_scores.std()}\")"
   ]
  },
  {
   "cell_type": "markdown",
   "metadata": {},
   "source": [
    "VAMOS AHORA CON LA EVALUCION DEL MODELO"
   ]
  },
  {
   "cell_type": "code",
   "execution_count": 32,
   "metadata": {},
   "outputs": [
    {
     "name": "stdout",
     "output_type": "stream",
     "text": [
      "Precisión: 0.7718\n",
      "Sensibilidad (Recall): 0.6455\n",
      "Especificidad: 0.9282\n",
      "F1-Score: 0.7030\n",
      "AUC-ROC: 0.9219\n",
      "Exactitud: 0.8510\n"
     ]
    }
   ],
   "source": [
    "from sklearn.metrics import confusion_matrix, precision_score, recall_score, f1_score, roc_auc_score, accuracy_score\n",
    "\n",
    "# Hacer predicciones con el mejor modelo\n",
    "y_pred = best_gb_model.predict(X_test)\n",
    "y_pred_proba = best_gb_model.predict_proba(X_test)[:, 1]\n",
    "\n",
    "# Calcular la matriz de confusión\n",
    "tn, fp, fn, tp = confusion_matrix(y_test, y_pred).ravel()\n",
    "\n",
    "# Calcular las métricas\n",
    "precision = precision_score(y_test, y_pred)\n",
    "recall = recall_score(y_test, y_pred)  # Esto es la sensibilidad\n",
    "specificity = tn / (tn + fp)  # Tasa de Verdaderos Negativos\n",
    "f1 = f1_score(y_test, y_pred)\n",
    "auc = roc_auc_score(y_test, y_pred_proba)\n",
    "accuracy = accuracy_score(y_test, y_pred)\n",
    "\n",
    "# Imprimir las métricas\n",
    "print(f\"Precisión: {precision:.4f}\")\n",
    "print(f\"Sensibilidad (Recall): {recall:.4f}\")\n",
    "print(f\"Especificidad: {specificity:.4f}\")\n",
    "print(f\"F1-Score: {f1:.4f}\")\n",
    "print(f\"AUC-ROC: {auc:.4f}\")\n",
    "print(f\"Exactitud: {accuracy:.4f}\")\n"
   ]
  },
  {
   "cell_type": "markdown",
   "metadata": {},
   "source": [
    "Fortalezas del Modelo:\n",
    "\n",
    "Especificidad (92.82%): El modelo es muy bueno para identificar correctamente los clientes que no comprarán un segundo coche.\n",
    "AUC-ROC (92.19%): Indica una excelente capacidad para separar las clases.\n",
    "Áreas de Mejora:\n",
    "\n",
    "Sensibilidad: Si te interesa mejorar la capacidad del modelo para identificar más clientes que realmente comprarán un segundo coche, podrías intentar mejorar el recall. Esto podría implicar ajustar los hiperparámetros o aplicar técnicas como el balanceo de clases o SMOTE.\n",
    "F1-Score: Aunque 70.30% es un buen valor, mejorar el recall ayudaría a aumentar también el F1-Score."
   ]
  },
  {
   "cell_type": "code",
   "execution_count": null,
   "metadata": {},
   "outputs": [],
   "source": []
  }
 ],
 "metadata": {
  "kernelspec": {
   "display_name": "Python 3",
   "language": "python",
   "name": "python3"
  },
  "language_info": {
   "codemirror_mode": {
    "name": "ipython",
    "version": 3
   },
   "file_extension": ".py",
   "mimetype": "text/x-python",
   "name": "python",
   "nbconvert_exporter": "python",
   "pygments_lexer": "ipython3",
   "version": "3.10.9"
  }
 },
 "nbformat": 4,
 "nbformat_minor": 2
}
